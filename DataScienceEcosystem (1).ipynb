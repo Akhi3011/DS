{
 "cells": [
  {
   "cell_type": "markdown",
   "id": "a12d5c97",
   "metadata": {},
   "source": [
    "# Data Science Tools and Ecosystem"
   ]
  },
  {
   "cell_type": "code",
   "execution_count": null,
   "id": "93e8f941",
   "metadata": {},
   "outputs": [],
   "source": [
    "# 'Objectives':\n",
    "\n",
    "# -Understand the basics of Python programming language\n",
    "# -Learn how to use Python for data manipulation and analysis\n",
    "# -Gain an understanding of key data science libraries in Python such as NumPy, Pandas, and Matplotlib\n",
    "# -Explore fundamental statistical concepts such as probability, hypothesis testing, and regression analysis\n",
    "# -Get hands-on experience with real-world data science projects and applications"
   ]
  },
  {
   "cell_type": "code",
   "execution_count": null,
   "id": "bd22434b",
   "metadata": {},
   "outputs": [],
   "source": [
    "#In this notebook, Data Science Tools and Ecosystem are summarized."
   ]
  },
  {
   "cell_type": "code",
   "execution_count": 1,
   "id": "ad35e15a",
   "metadata": {},
   "outputs": [
    {
     "name": "stdout",
     "output_type": "stream",
     "text": [
      "Ordered List of Commonly Used Languages for Data Science:\n",
      "1. Python\n",
      "2. R\n",
      "3. SQL\n"
     ]
    }
   ],
   "source": [
    "print(\"Ordered List of Commonly Used Languages for Data Science:\")\n",
    "print(\"1. Python\")\n",
    "print(\"2. R\")\n",
    "print(\"3. SQL\")"
   ]
  },
  {
   "cell_type": "code",
   "execution_count": 2,
   "id": "f2abb513",
   "metadata": {},
   "outputs": [
    {
     "name": "stdout",
     "output_type": "stream",
     "text": [
      "Ordered List of Commonly Used libraries for Data Science:\n",
      "1. Pandas\n",
      "2. NumPy\n",
      "3.Scikit-learn\n"
     ]
    }
   ],
   "source": [
    "print(\"Ordered List of Commonly Used libraries for Data Science:\")\n",
    "print(\"1. Pandas\")\n",
    "print(\"2. NumPy\")\n",
    "print(\"3.Scikit-learn\")"
   ]
  },
  {
   "cell_type": "code",
   "execution_count": 3,
   "id": "895e4140",
   "metadata": {},
   "outputs": [
    {
     "data": {
      "text/markdown": [
       "| Data Science Tools |\n",
       "| --- |\n",
       "| Jupyter Notebook |\n",
       "| RStudio |\n",
       "| PyCharm |"
      ],
      "text/plain": [
       "<IPython.core.display.Markdown object>"
      ]
     },
     "metadata": {},
     "output_type": "display_data"
    }
   ],
   "source": [
    "from IPython.display import Markdown, display\n",
    "\n",
    "table = \"| Data Science Tools |\\n| --- |\\n| Jupyter Notebook |\\n| RStudio |\\n| PyCharm |\"\n",
    "display(Markdown(table))\n"
   ]
  },
  {
   "cell_type": "markdown",
   "id": "66d5671e",
   "metadata": {},
   "source": [
    "# Examples of Evaluating Arithmetic Expressions in Python"
   ]
  },
  {
   "cell_type": "code",
   "execution_count": 5,
   "id": "34a5d1bf",
   "metadata": {},
   "outputs": [
    {
     "data": {
      "text/plain": [
       "5"
      ]
     },
     "execution_count": 5,
     "metadata": {},
     "output_type": "execute_result"
    }
   ],
   "source": [
    "# Addition\n",
    "2 + 3  "
   ]
  },
  {
   "cell_type": "code",
   "execution_count": 6,
   "id": "2170ff9b",
   "metadata": {},
   "outputs": [
    {
     "data": {
      "text/plain": [
       "5"
      ]
     },
     "execution_count": 6,
     "metadata": {},
     "output_type": "execute_result"
    }
   ],
   "source": [
    "# Subtraction\n",
    "10 - 5  "
   ]
  },
  {
   "cell_type": "code",
   "execution_count": 7,
   "id": "bde76385",
   "metadata": {},
   "outputs": [
    {
     "data": {
      "text/plain": [
       "10"
      ]
     },
     "execution_count": 7,
     "metadata": {},
     "output_type": "execute_result"
    }
   ],
   "source": [
    "# Multiplication\n",
    "2 * 5   "
   ]
  },
  {
   "cell_type": "code",
   "execution_count": 8,
   "id": "36725925",
   "metadata": {},
   "outputs": [
    {
     "data": {
      "text/plain": [
       "5.0"
      ]
     },
     "execution_count": 8,
     "metadata": {},
     "output_type": "execute_result"
    }
   ],
   "source": [
    "# Division\n",
    "20 / 4 "
   ]
  },
  {
   "cell_type": "code",
   "execution_count": 9,
   "id": "654b7205",
   "metadata": {},
   "outputs": [
    {
     "data": {
      "text/plain": [
       "1"
      ]
     },
     "execution_count": 9,
     "metadata": {},
     "output_type": "execute_result"
    }
   ],
   "source": [
    "# Modulus (Remainder)\n",
    "10 % 3  \n"
   ]
  },
  {
   "cell_type": "code",
   "execution_count": 10,
   "id": "9f1b289d",
   "metadata": {},
   "outputs": [
    {
     "data": {
      "text/plain": [
       "8"
      ]
     },
     "execution_count": 10,
     "metadata": {},
     "output_type": "execute_result"
    }
   ],
   "source": [
    "# Exponentiation\n",
    "2 ** 3  "
   ]
  },
  {
   "cell_type": "code",
   "execution_count": 11,
   "id": "e4288e22",
   "metadata": {},
   "outputs": [
    {
     "name": "stdout",
     "output_type": "stream",
     "text": [
      "17\n"
     ]
    }
   ],
   "source": [
    "# This is a simple arithmetic expression to multiply then add integers\n",
    "result = (3 * 4) + 5\n",
    "print(result)"
   ]
  },
  {
   "cell_type": "code",
   "execution_count": 12,
   "id": "d567a085",
   "metadata": {},
   "outputs": [
    {
     "name": "stdout",
     "output_type": "stream",
     "text": [
      "3.3333333333333335\n"
     ]
    }
   ],
   "source": [
    "# This will convert 200 minutes to hours by dividing by 60\n",
    "minutes = 200\n",
    "hours = minutes / 60\n",
    "print(hours)  "
   ]
  },
  {
   "cell_type": "code",
   "execution_count": null,
   "id": "6496f4e1",
   "metadata": {},
   "outputs": [],
   "source": [
    "##Author\n",
    "Akhil"
   ]
  }
 ],
 "metadata": {
  "kernelspec": {
   "display_name": "Python 3 (ipykernel)",
   "language": "python",
   "name": "python3"
  },
  "language_info": {
   "codemirror_mode": {
    "name": "ipython",
    "version": 3
   },
   "file_extension": ".py",
   "mimetype": "text/x-python",
   "name": "python",
   "nbconvert_exporter": "python",
   "pygments_lexer": "ipython3",
   "version": "3.10.5"
  }
 },
 "nbformat": 4,
 "nbformat_minor": 5
}
